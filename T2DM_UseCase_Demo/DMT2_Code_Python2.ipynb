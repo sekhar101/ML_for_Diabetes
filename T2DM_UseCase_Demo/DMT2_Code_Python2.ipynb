{
 "cells": [
  {
   "cell_type": "code",
   "execution_count": 61,
   "metadata": {},
   "outputs": [],
   "source": [
    "import math\n",
    "import numpy as np\n",
    "import pandas as pd\n",
    "from sklearn.preprocessing import LabelEncoder\n",
    "from sklearn.preprocessing import OneHotEncoder \n",
    "from sklearn.tree import DecisionTreeClassifier\n",
    "from sklearn.model_selection import train_test_split\n",
    "\n",
    "df = pd.read_csv(\"diabetes.csv\")"
   ]
  },
  {
   "cell_type": "code",
   "execution_count": 62,
   "metadata": {
    "scrolled": false
   },
   "outputs": [
    {
     "data": {
      "text/plain": [
       "(768, 9)"
      ]
     },
     "execution_count": 62,
     "metadata": {},
     "output_type": "execute_result"
    }
   ],
   "source": [
    "df.shape"
   ]
  },
  {
   "cell_type": "code",
   "execution_count": 63,
   "metadata": {},
   "outputs": [
    {
     "name": "stdout",
     "output_type": "stream",
     "text": [
      "<class 'pandas.core.frame.DataFrame'>\n",
      "RangeIndex: 768 entries, 0 to 767\n",
      "Data columns (total 9 columns):\n",
      "Pregnancies                 768 non-null int64\n",
      "Glucose                     768 non-null int64\n",
      "BloodPressure               768 non-null int64\n",
      "SkinThickness               768 non-null int64\n",
      "Insulin                     768 non-null int64\n",
      "BMI                         768 non-null float64\n",
      "DiabetesPedigreeFunction    768 non-null float64\n",
      "Age                         768 non-null int64\n",
      "Outcome                     768 non-null int64\n",
      "dtypes: float64(2), int64(7)\n",
      "memory usage: 54.1 KB\n"
     ]
    }
   ],
   "source": [
    "df.info()"
   ]
  },
  {
   "cell_type": "code",
   "execution_count": 64,
   "metadata": {},
   "outputs": [
    {
     "name": "stdout",
     "output_type": "stream",
     "text": [
      "Index(['Pregnancies', 'Glucose', 'BloodPressure', 'SkinThickness', 'Insulin',\n",
      "       'BMI', 'DiabetesPedigreeFunction', 'Age', 'Outcome'],\n",
      "      dtype='object')\n"
     ]
    }
   ],
   "source": [
    "print(df.columns)"
   ]
  },
  {
   "cell_type": "code",
   "execution_count": 65,
   "metadata": {},
   "outputs": [
    {
     "name": "stdout",
     "output_type": "stream",
     "text": [
      "[]\n",
      "['Pregnancies', 'Glucose', 'BloodPressure', 'SkinThickness', 'Insulin', 'BMI', 'DiabetesPedigreeFunction', 'Age', 'Outcome']\n"
     ]
    }
   ],
   "source": [
    "# Select categorical columns irrespective of cardinality (convenient for label encoding)\n",
    "categorical_cols = [cname for cname in df.columns if \n",
    "                    df[cname].dtype == \"object\"]\n",
    "\n",
    "# Select numerical columns\n",
    "numerical_cols = [cname for cname in df.columns if \n",
    "                df[cname].dtype in ['int64', 'float64']]\n",
    "\n",
    "print(categorical_cols)\n",
    "print(numerical_cols)"
   ]
  },
  {
   "cell_type": "code",
   "execution_count": 66,
   "metadata": {},
   "outputs": [
    {
     "data": {
      "text/html": [
       "<div>\n",
       "<style scoped>\n",
       "    .dataframe tbody tr th:only-of-type {\n",
       "        vertical-align: middle;\n",
       "    }\n",
       "\n",
       "    .dataframe tbody tr th {\n",
       "        vertical-align: top;\n",
       "    }\n",
       "\n",
       "    .dataframe thead th {\n",
       "        text-align: right;\n",
       "    }\n",
       "</style>\n",
       "<table border=\"1\" class=\"dataframe\">\n",
       "  <thead>\n",
       "    <tr style=\"text-align: right;\">\n",
       "      <th></th>\n",
       "      <th>Pregnancies</th>\n",
       "      <th>Glucose</th>\n",
       "      <th>BloodPressure</th>\n",
       "      <th>SkinThickness</th>\n",
       "      <th>Insulin</th>\n",
       "      <th>BMI</th>\n",
       "      <th>DiabetesPedigreeFunction</th>\n",
       "      <th>Age</th>\n",
       "      <th>Outcome</th>\n",
       "    </tr>\n",
       "  </thead>\n",
       "  <tbody>\n",
       "    <tr>\n",
       "      <td>0</td>\n",
       "      <td>6</td>\n",
       "      <td>148</td>\n",
       "      <td>72</td>\n",
       "      <td>35</td>\n",
       "      <td>0</td>\n",
       "      <td>33.60</td>\n",
       "      <td>0.63</td>\n",
       "      <td>50</td>\n",
       "      <td>1</td>\n",
       "    </tr>\n",
       "    <tr>\n",
       "      <td>1</td>\n",
       "      <td>1</td>\n",
       "      <td>85</td>\n",
       "      <td>66</td>\n",
       "      <td>29</td>\n",
       "      <td>0</td>\n",
       "      <td>26.60</td>\n",
       "      <td>0.35</td>\n",
       "      <td>31</td>\n",
       "      <td>0</td>\n",
       "    </tr>\n",
       "    <tr>\n",
       "      <td>2</td>\n",
       "      <td>8</td>\n",
       "      <td>183</td>\n",
       "      <td>64</td>\n",
       "      <td>0</td>\n",
       "      <td>0</td>\n",
       "      <td>23.30</td>\n",
       "      <td>0.67</td>\n",
       "      <td>32</td>\n",
       "      <td>1</td>\n",
       "    </tr>\n",
       "    <tr>\n",
       "      <td>3</td>\n",
       "      <td>1</td>\n",
       "      <td>89</td>\n",
       "      <td>66</td>\n",
       "      <td>23</td>\n",
       "      <td>94</td>\n",
       "      <td>28.10</td>\n",
       "      <td>0.17</td>\n",
       "      <td>21</td>\n",
       "      <td>0</td>\n",
       "    </tr>\n",
       "    <tr>\n",
       "      <td>4</td>\n",
       "      <td>0</td>\n",
       "      <td>137</td>\n",
       "      <td>40</td>\n",
       "      <td>35</td>\n",
       "      <td>168</td>\n",
       "      <td>43.10</td>\n",
       "      <td>2.29</td>\n",
       "      <td>33</td>\n",
       "      <td>1</td>\n",
       "    </tr>\n",
       "  </tbody>\n",
       "</table>\n",
       "</div>"
      ],
      "text/plain": [
       "   Pregnancies  Glucose  BloodPressure  SkinThickness  Insulin   BMI  \\\n",
       "0            6      148             72             35        0 33.60   \n",
       "1            1       85             66             29        0 26.60   \n",
       "2            8      183             64              0        0 23.30   \n",
       "3            1       89             66             23       94 28.10   \n",
       "4            0      137             40             35      168 43.10   \n",
       "\n",
       "   DiabetesPedigreeFunction  Age  Outcome  \n",
       "0                      0.63   50        1  \n",
       "1                      0.35   31        0  \n",
       "2                      0.67   32        1  \n",
       "3                      0.17   21        0  \n",
       "4                      2.29   33        1  "
      ]
     },
     "execution_count": 66,
     "metadata": {},
     "output_type": "execute_result"
    }
   ],
   "source": [
    "df.head(5)"
   ]
  },
  {
   "cell_type": "code",
   "execution_count": 67,
   "metadata": {
    "scrolled": true
   },
   "outputs": [
    {
     "name": "stdout",
     "output_type": "stream",
     "text": [
      "       Pregnancies  Glucose  BloodPressure  SkinThickness  Insulin    BMI  \\\n",
      "count       768.00   768.00         768.00         768.00   768.00 768.00   \n",
      "mean          3.85   120.89          69.11          20.54    79.80  31.99   \n",
      "std           3.37    31.97          19.36          15.95   115.24   7.88   \n",
      "min           0.00     0.00           0.00           0.00     0.00   0.00   \n",
      "25%           1.00    99.00          62.00           0.00     0.00  27.30   \n",
      "50%           3.00   117.00          72.00          23.00    30.50  32.00   \n",
      "75%           6.00   140.25          80.00          32.00   127.25  36.60   \n",
      "max          17.00   199.00         122.00          99.00   846.00  67.10   \n",
      "\n",
      "       DiabetesPedigreeFunction    Age  Outcome  \n",
      "count                    768.00 768.00   768.00  \n",
      "mean                       0.47  33.24     0.35  \n",
      "std                        0.33  11.76     0.48  \n",
      "min                        0.08  21.00     0.00  \n",
      "25%                        0.24  24.00     0.00  \n",
      "50%                        0.37  29.00     0.00  \n",
      "75%                        0.63  41.00     1.00  \n",
      "max                        2.42  81.00     1.00  \n"
     ]
    }
   ],
   "source": [
    "pd.set_option('display.float_format', '{:.2f}'.format) # Suppress scientific notations\n",
    "\n",
    "pd.set_option(\"display.max_columns\", 10) # Display all columns\n",
    "\n",
    "print(df.describe())"
   ]
  },
  {
   "cell_type": "code",
   "execution_count": 68,
   "metadata": {},
   "outputs": [],
   "source": [
    "# Let's write a function to print the total percentage of the missing values.\n",
    "#(this can be a good exercise for beginners to try to write simple functions like this.)\n",
    "\n",
    "def missing_percentage(df):\n",
    "    \"\"\"This function takes a DataFrame(df) as input and returns two columns, total missing values and total missing values percentage\"\"\"\n",
    "    total = df.isnull().sum().sort_values(ascending = False)\n",
    "    percent = round(df.isnull().sum().sort_values(ascending = False)/len(df)*100,2)\n",
    "    return pd.concat([total, percent], axis=1, keys=['Total','Percent'])"
   ]
  },
  {
   "cell_type": "code",
   "execution_count": 69,
   "metadata": {
    "scrolled": true
   },
   "outputs": [
    {
     "data": {
      "text/html": [
       "<div>\n",
       "<style scoped>\n",
       "    .dataframe tbody tr th:only-of-type {\n",
       "        vertical-align: middle;\n",
       "    }\n",
       "\n",
       "    .dataframe tbody tr th {\n",
       "        vertical-align: top;\n",
       "    }\n",
       "\n",
       "    .dataframe thead th {\n",
       "        text-align: right;\n",
       "    }\n",
       "</style>\n",
       "<table border=\"1\" class=\"dataframe\">\n",
       "  <thead>\n",
       "    <tr style=\"text-align: right;\">\n",
       "      <th></th>\n",
       "      <th>Total</th>\n",
       "      <th>Percent</th>\n",
       "    </tr>\n",
       "  </thead>\n",
       "  <tbody>\n",
       "    <tr>\n",
       "      <td>Outcome</td>\n",
       "      <td>0</td>\n",
       "      <td>0.00</td>\n",
       "    </tr>\n",
       "    <tr>\n",
       "      <td>Age</td>\n",
       "      <td>0</td>\n",
       "      <td>0.00</td>\n",
       "    </tr>\n",
       "    <tr>\n",
       "      <td>DiabetesPedigreeFunction</td>\n",
       "      <td>0</td>\n",
       "      <td>0.00</td>\n",
       "    </tr>\n",
       "    <tr>\n",
       "      <td>BMI</td>\n",
       "      <td>0</td>\n",
       "      <td>0.00</td>\n",
       "    </tr>\n",
       "    <tr>\n",
       "      <td>Insulin</td>\n",
       "      <td>0</td>\n",
       "      <td>0.00</td>\n",
       "    </tr>\n",
       "    <tr>\n",
       "      <td>SkinThickness</td>\n",
       "      <td>0</td>\n",
       "      <td>0.00</td>\n",
       "    </tr>\n",
       "    <tr>\n",
       "      <td>BloodPressure</td>\n",
       "      <td>0</td>\n",
       "      <td>0.00</td>\n",
       "    </tr>\n",
       "    <tr>\n",
       "      <td>Glucose</td>\n",
       "      <td>0</td>\n",
       "      <td>0.00</td>\n",
       "    </tr>\n",
       "    <tr>\n",
       "      <td>Pregnancies</td>\n",
       "      <td>0</td>\n",
       "      <td>0.00</td>\n",
       "    </tr>\n",
       "  </tbody>\n",
       "</table>\n",
       "</div>"
      ],
      "text/plain": [
       "                          Total  Percent\n",
       "Outcome                       0     0.00\n",
       "Age                           0     0.00\n",
       "DiabetesPedigreeFunction      0     0.00\n",
       "BMI                           0     0.00\n",
       "Insulin                       0     0.00\n",
       "SkinThickness                 0     0.00\n",
       "BloodPressure                 0     0.00\n",
       "Glucose                       0     0.00\n",
       "Pregnancies                   0     0.00"
      ]
     },
     "execution_count": 69,
     "metadata": {},
     "output_type": "execute_result"
    }
   ],
   "source": [
    "missing_percentage(df)"
   ]
  },
  {
   "cell_type": "code",
   "execution_count": 71,
   "metadata": {},
   "outputs": [],
   "source": [
    "# Missing value treatment strategies\n",
    "# from sklearn.compose import ColumnTransformer\n",
    "\n",
    "from sklearn.impute import SimpleImputer\n",
    "from sklearn.preprocessing import OneHotEncoder\n",
    "from sklearn.preprocessing import RobustScaler\n",
    "from sklearn.preprocessing import LabelEncoder\n",
    "from sklearn.experimental import enable_iterative_imputer\n",
    "from sklearn.impute import IterativeImputer\n",
    "\n",
    "# df  = df.fillna(0)\n",
    "\n",
    "# Preprocessing/imputation for numerical data\n",
    "numerical_imputer = SimpleImputer(strategy='median')\n",
    "numerical_imputer1 = IterativeImputer(max_iter=10, random_state=0)\n",
    "\n",
    "# Preprocessing/imputation for categorical data\n",
    "categorical_imputer = SimpleImputer(strategy='most_frequent')\n",
    "\n",
    "# Impute\n",
    "\n",
    "# df[numerical_cols] = numerical_imputer.fit_transform(df[numerical_cols])\n",
    "# df[numerical_cols] = numerical_imputer1.fit_transform(df[numerical_cols])\n",
    "\n",
    "# df[categorical_cols] = categorical_imputer.fit_transform(df[categorical_cols])    "
   ]
  },
  {
   "cell_type": "code",
   "execution_count": 72,
   "metadata": {},
   "outputs": [
    {
     "name": "stdout",
     "output_type": "stream",
     "text": [
      "Outcome\n",
      "0    500\n",
      "1    268\n",
      "dtype: int64\n"
     ]
    }
   ],
   "source": [
    "print(df.groupby('Outcome').size())"
   ]
  },
  {
   "cell_type": "code",
   "execution_count": 73,
   "metadata": {},
   "outputs": [
    {
     "data": {
      "text/plain": [
       "<matplotlib.axes._subplots.AxesSubplot at 0x2744e881e48>"
      ]
     },
     "execution_count": 73,
     "metadata": {},
     "output_type": "execute_result"
    },
    {
     "data": {
      "image/png": "[encoded data removed]",
      "text/plain": [
       "<Figure size 432x288 with 1 Axes>"
      ]
     },
     "metadata": {
      "needs_background": "light"
     },
     "output_type": "display_data"
    }
   ],
   "source": [
    "# Plot outcome classes, to check for class imbalance\n",
    "\n",
    "import matplotlib.pyplot as plt\n",
    "import seaborn as sns\n",
    "\n",
    "sns.countplot(df['Outcome'], label=\"Count\")"
   ]
  },
  {
   "cell_type": "code",
   "execution_count": 74,
   "metadata": {},
   "outputs": [
    {
     "data": {
      "image/png": "[encoded data removed]",
      "text/plain": [
       "<Figure size 1440x720 with 1 Axes>"
      ]
     },
     "metadata": {
      "needs_background": "light"
     },
     "output_type": "display_data"
    }
   ],
   "source": [
    "## Let's look at the histogram of 'Age' to check the distribution\n",
    "\n",
    "plt.subplots(figsize = (20,10),)\n",
    "sns.distplot(df.Age, bins = 100, kde = True, rug = False, norm_hist=False);"
   ]
  },
  {
   "cell_type": "code",
   "execution_count": 75,
   "metadata": {},
   "outputs": [],
   "source": [
    "col = list(df.columns)\n",
    "col.remove(\"Outcome\")\n",
    "#col.remove(\"id\")"
   ]
  },
  {
   "cell_type": "code",
   "execution_count": 76,
   "metadata": {},
   "outputs": [
    {
     "data": {
      "text/plain": [
       "<matplotlib.axes._subplots.AxesSubplot at 0x2744f4b0710>"
      ]
     },
     "execution_count": 76,
     "metadata": {},
     "output_type": "execute_result"
    },
    {
     "data": {
      "image/png": "[encoded data removed]",
      "text/plain": [
       "<Figure size 1008x864 with 2 Axes>"
      ]
     },
     "metadata": {
      "needs_background": "light"
     },
     "output_type": "display_data"
    }
   ],
   "source": [
    "# Correlation among Independent Variables/Features, to see relationships\n",
    "\n",
    "import matplotlib.pyplot as plt\n",
    "import seaborn as sns\n",
    "\n",
    "colormap = plt.cm.RdBu\n",
    "\n",
    "plt.figure(figsize=(14,12))\n",
    "plt.title('Pearson Correlation Grid for Numeric Features', y=1.05, size=16)\n",
    "sns.heatmap(df.astype(float).corr(),linewidths=0.1,vmax=1.0, \n",
    "            square=True, cmap=colormap, linecolor='white', annot=True)"
   ]
  },
  {
   "cell_type": "code",
   "execution_count": 77,
   "metadata": {},
   "outputs": [
    {
     "data": {
      "image/png": "[encoded data removed]",
      "text/plain": [
       "<Figure size 1152x288 with 1 Axes>"
      ]
     },
     "metadata": {
      "needs_background": "light"
     },
     "output_type": "display_data"
    }
   ],
   "source": [
    "#Generate boxplots for all the numeric variables to compare side by side, and check for outliers\n",
    "\n",
    "from sklearn.preprocessing import MinMaxScaler\n",
    "\n",
    "#df1 = df[numerical_cols]\n",
    "\n",
    "x = df[col].values #returns a numpy array\n",
    "\n",
    "min_max_scaler = MinMaxScaler(feature_range=(0, 1))\n",
    "\n",
    "x_scaled = min_max_scaler.fit_transform(x)\n",
    "\n",
    "df3 = pd.DataFrame(x_scaled, columns = df[col].columns)\n",
    "\n",
    "boxplot = df3.boxplot(figsize=[16,4])"
   ]
  },
  {
   "cell_type": "code",
   "execution_count": 78,
   "metadata": {},
   "outputs": [],
   "source": [
    "# Minmax Scaling for better fit after outlier treatment\n",
    "\n",
    "from sklearn.preprocessing import MinMaxScaler\n",
    "\n",
    "df1 = df[col].values #returns a numpy array for outlier untreated numeric cols\n",
    "# x = df1.values #returns a numpy array for outlier treated numeric cols\n",
    "\n",
    "min_max_scaler = MinMaxScaler(feature_range=(-1, 1))\n",
    "\n",
    "x_scaled = min_max_scaler.fit_transform(x)\n",
    "\n",
    "df2 = pd.DataFrame(x_scaled, columns = df[col].columns)\n"
   ]
  },
  {
   "cell_type": "code",
   "execution_count": 79,
   "metadata": {},
   "outputs": [],
   "source": [
    "X = df[col].values\n",
    "Y = df[['Outcome']].values"
   ]
  },
  {
   "cell_type": "code",
   "execution_count": 80,
   "metadata": {},
   "outputs": [],
   "source": [
    "X1 = df2.values\n",
    "Y1 = df[['Outcome']].values"
   ]
  },
  {
   "cell_type": "code",
   "execution_count": 91,
   "metadata": {},
   "outputs": [
    {
     "data": {
      "text/plain": [
       "DecisionTreeClassifier(class_weight=None, criterion='entropy', max_depth=None,\n",
       "                       max_features=8, max_leaf_nodes=None,\n",
       "                       min_impurity_decrease=0.0, min_impurity_split=None,\n",
       "                       min_samples_leaf=1, min_samples_split=2,\n",
       "                       min_weight_fraction_leaf=0.0, presort=False,\n",
       "                       random_state=0, splitter='best')"
      ]
     },
     "execution_count": 91,
     "metadata": {},
     "output_type": "execute_result"
    }
   ],
   "source": [
    "# Train-Test split\n",
    "\n",
    "train_x, test_x, train_y,test_y = train_test_split(X, Y, test_size=0.25, random_state=1000)\n",
    "\n",
    "## Creating Decision Tree\n",
    "dt = DecisionTreeClassifier(max_depth=None, criterion='entropy', max_features=8, min_impurity_decrease=0.0, random_state=0)\n",
    "\n",
    "dt.fit(train_x, train_y)"
   ]
  },
  {
   "cell_type": "code",
   "execution_count": 87,
   "metadata": {},
   "outputs": [
    {
     "data": {
      "text/plain": [
       "DecisionTreeClassifier(class_weight=None, criterion='entropy', max_depth=None,\n",
       "                       max_features=8, max_leaf_nodes=None,\n",
       "                       min_impurity_decrease=0.0, min_impurity_split=None,\n",
       "                       min_samples_leaf=1, min_samples_split=2,\n",
       "                       min_weight_fraction_leaf=0.0, presort=False,\n",
       "                       random_state=0, splitter='best')"
      ]
     },
     "execution_count": 87,
     "metadata": {},
     "output_type": "execute_result"
    }
   ],
   "source": [
    "# Train-Test split on Scaled variables; for comparison of results\n",
    "\n",
    "train_x, test_x, train_y,test_y = train_test_split(X1, Y1, test_size=0.25, random_state=1000)\n",
    "\n",
    "## Creating Decision Tree\n",
    "dt = DecisionTreeClassifier(max_depth=None, criterion='entropy', max_features=8, min_impurity_decrease=0.0, random_state=0)\n",
    "\n",
    "dt.fit(train_x, train_y)"
   ]
  },
  {
   "cell_type": "code",
   "execution_count": 92,
   "metadata": {},
   "outputs": [
    {
     "name": "stdout",
     "output_type": "stream",
     "text": [
      "[0 0 0 0]\n",
      "[[1. 0.]\n",
      " [1. 0.]\n",
      " [1. 0.]\n",
      " [1. 0.]]\n"
     ]
    }
   ],
   "source": [
    "# View predicted classes\n",
    "\n",
    "pred_class = dt.predict(test_x)\n",
    "pred_prob  = dt.predict_proba(test_x)\n",
    "print(pred_class[0:4])\n",
    "print(pred_prob[0:4])"
   ]
  },
  {
   "cell_type": "code",
   "execution_count": 93,
   "metadata": {},
   "outputs": [
    {
     "data": {
      "text/plain": [
       "array([[94, 31],\n",
       "       [32, 35]], dtype=int64)"
      ]
     },
     "execution_count": 93,
     "metadata": {},
     "output_type": "execute_result"
    }
   ],
   "source": [
    "# Confusion matrix\n",
    "\n",
    "from sklearn.metrics import confusion_matrix\n",
    "\n",
    "confusion_matrix(test_y, pred_class)"
   ]
  },
  {
   "cell_type": "code",
   "execution_count": 94,
   "metadata": {},
   "outputs": [
    {
     "name": "stdout",
     "output_type": "stream",
     "text": [
      "94 31 32 35\n"
     ]
    }
   ],
   "source": [
    "# Print out above numbers from 2*2 grid\n",
    "\n",
    "tn=confusion_matrix(test_y, pred_class)[0,0]\n",
    "tp=confusion_matrix(test_y, pred_class)[1,1]\n",
    "fn=confusion_matrix(test_y, pred_class)[1,0]\n",
    "fp=confusion_matrix(test_y, pred_class)[0,1]\n",
    "\n",
    "print(tn, fp, fn, tp)"
   ]
  },
  {
   "cell_type": "code",
   "execution_count": 95,
   "metadata": {},
   "outputs": [
    {
     "name": "stdout",
     "output_type": "stream",
     "text": [
      "0.671875\n",
      "0.5303030303030303\n",
      "0.5223880597014925\n"
     ]
    }
   ],
   "source": [
    "from sklearn.metrics import accuracy_score, precision_score, recall_score\n",
    "\n",
    "print(accuracy_score(test_y, pred_class))\n",
    "print(precision_score(test_y, pred_class))\n",
    "print(recall_score(test_y, pred_class))"
   ]
  },
  {
   "cell_type": "code",
   "execution_count": 96,
   "metadata": {},
   "outputs": [
    {
     "data": {
      "text/plain": [
       "0.6371940298507462"
      ]
     },
     "execution_count": 96,
     "metadata": {},
     "output_type": "execute_result"
    }
   ],
   "source": [
    "#RoC Value\n",
    "\n",
    "from sklearn.metrics import roc_auc_score\n",
    "roc_auc_score(test_y, pred_prob[0:,1:])"
   ]
  },
  {
   "cell_type": "code",
   "execution_count": 97,
   "metadata": {},
   "outputs": [],
   "source": [
    "import matplotlib.pyplot as plt\n",
    "import seaborn as sns\n",
    "import warnings\n",
    "warnings.simplefilter(action='ignore', category=FutureWarning)\n",
    "feature_imp = pd.DataFrame(sorted(zip(dt.feature_importances_, col), reverse=True), columns=['Value','Feature'])\n"
   ]
  },
  {
   "cell_type": "code",
   "execution_count": 98,
   "metadata": {},
   "outputs": [
    {
     "data": {
      "text/html": [
       "<div>\n",
       "<style scoped>\n",
       "    .dataframe tbody tr th:only-of-type {\n",
       "        vertical-align: middle;\n",
       "    }\n",
       "\n",
       "    .dataframe tbody tr th {\n",
       "        vertical-align: top;\n",
       "    }\n",
       "\n",
       "    .dataframe thead th {\n",
       "        text-align: right;\n",
       "    }\n",
       "</style>\n",
       "<table border=\"1\" class=\"dataframe\">\n",
       "  <thead>\n",
       "    <tr style=\"text-align: right;\">\n",
       "      <th></th>\n",
       "      <th>Value</th>\n",
       "      <th>Feature</th>\n",
       "    </tr>\n",
       "  </thead>\n",
       "  <tbody>\n",
       "    <tr>\n",
       "      <td>0</td>\n",
       "      <td>0.26</td>\n",
       "      <td>Glucose</td>\n",
       "    </tr>\n",
       "    <tr>\n",
       "      <td>1</td>\n",
       "      <td>0.17</td>\n",
       "      <td>DiabetesPedigreeFunction</td>\n",
       "    </tr>\n",
       "    <tr>\n",
       "      <td>2</td>\n",
       "      <td>0.17</td>\n",
       "      <td>BMI</td>\n",
       "    </tr>\n",
       "    <tr>\n",
       "      <td>3</td>\n",
       "      <td>0.14</td>\n",
       "      <td>Age</td>\n",
       "    </tr>\n",
       "    <tr>\n",
       "      <td>4</td>\n",
       "      <td>0.09</td>\n",
       "      <td>BloodPressure</td>\n",
       "    </tr>\n",
       "    <tr>\n",
       "      <td>5</td>\n",
       "      <td>0.07</td>\n",
       "      <td>SkinThickness</td>\n",
       "    </tr>\n",
       "    <tr>\n",
       "      <td>6</td>\n",
       "      <td>0.06</td>\n",
       "      <td>Pregnancies</td>\n",
       "    </tr>\n",
       "    <tr>\n",
       "      <td>7</td>\n",
       "      <td>0.04</td>\n",
       "      <td>Insulin</td>\n",
       "    </tr>\n",
       "  </tbody>\n",
       "</table>\n",
       "</div>"
      ],
      "text/plain": [
       "   Value                   Feature\n",
       "0   0.26                   Glucose\n",
       "1   0.17  DiabetesPedigreeFunction\n",
       "2   0.17                       BMI\n",
       "3   0.14                       Age\n",
       "4   0.09             BloodPressure\n",
       "5   0.07             SkinThickness\n",
       "6   0.06               Pregnancies\n",
       "7   0.04                   Insulin"
      ]
     },
     "execution_count": 98,
     "metadata": {},
     "output_type": "execute_result"
    }
   ],
   "source": [
    "# Feature Importance table\n",
    "feature_imp"
   ]
  },
  {
   "cell_type": "code",
   "execution_count": 99,
   "metadata": {},
   "outputs": [
    {
     "data": {
      "image/png": "[encoded data removed]",
      "text/plain": [
       "<Figure size 1080x360 with 1 Axes>"
      ]
     },
     "metadata": {
      "needs_background": "light"
     },
     "output_type": "display_data"
    }
   ],
   "source": [
    "# Feature Importance plot\n",
    "plt.figure(figsize=(15, 5))\n",
    "sns.barplot(x=\"Value\", y=\"Feature\", data=feature_imp.sort_values(by=\"Value\", ascending=False))\n",
    "plt.title('Decision Tree Feature Importance')\n",
    "plt.tight_layout()\n",
    "plt.show()"
   ]
  },
  {
   "cell_type": "code",
   "execution_count": 100,
   "metadata": {},
   "outputs": [
    {
     "data": {
      "text/html": [
       "<div>\n",
       "<style scoped>\n",
       "    .dataframe tbody tr th:only-of-type {\n",
       "        vertical-align: middle;\n",
       "    }\n",
       "\n",
       "    .dataframe tbody tr th {\n",
       "        vertical-align: top;\n",
       "    }\n",
       "\n",
       "    .dataframe thead th {\n",
       "        text-align: right;\n",
       "    }\n",
       "</style>\n",
       "<table border=\"1\" class=\"dataframe\">\n",
       "  <thead>\n",
       "    <tr style=\"text-align: right;\">\n",
       "      <th></th>\n",
       "      <th>depth</th>\n",
       "      <th>tn</th>\n",
       "      <th>tp</th>\n",
       "      <th>fn</th>\n",
       "      <th>fp</th>\n",
       "      <th>acc</th>\n",
       "      <th>pr</th>\n",
       "      <th>rec</th>\n",
       "      <th>auc</th>\n",
       "    </tr>\n",
       "  </thead>\n",
       "  <tbody>\n",
       "    <tr>\n",
       "      <td>0</td>\n",
       "      <td>2</td>\n",
       "      <td>116</td>\n",
       "      <td>30</td>\n",
       "      <td>35</td>\n",
       "      <td>50</td>\n",
       "      <td>0.72</td>\n",
       "      <td>0.62</td>\n",
       "      <td>0.59</td>\n",
       "      <td>0.72</td>\n",
       "    </tr>\n",
       "    <tr>\n",
       "      <td>1</td>\n",
       "      <td>3</td>\n",
       "      <td>113</td>\n",
       "      <td>33</td>\n",
       "      <td>31</td>\n",
       "      <td>54</td>\n",
       "      <td>0.72</td>\n",
       "      <td>0.62</td>\n",
       "      <td>0.64</td>\n",
       "      <td>0.76</td>\n",
       "    </tr>\n",
       "    <tr>\n",
       "      <td>2</td>\n",
       "      <td>4</td>\n",
       "      <td>115</td>\n",
       "      <td>31</td>\n",
       "      <td>41</td>\n",
       "      <td>44</td>\n",
       "      <td>0.69</td>\n",
       "      <td>0.59</td>\n",
       "      <td>0.52</td>\n",
       "      <td>0.74</td>\n",
       "    </tr>\n",
       "    <tr>\n",
       "      <td>3</td>\n",
       "      <td>5</td>\n",
       "      <td>118</td>\n",
       "      <td>28</td>\n",
       "      <td>44</td>\n",
       "      <td>41</td>\n",
       "      <td>0.69</td>\n",
       "      <td>0.59</td>\n",
       "      <td>0.48</td>\n",
       "      <td>0.74</td>\n",
       "    </tr>\n",
       "    <tr>\n",
       "      <td>4</td>\n",
       "      <td>6</td>\n",
       "      <td>109</td>\n",
       "      <td>37</td>\n",
       "      <td>35</td>\n",
       "      <td>50</td>\n",
       "      <td>0.69</td>\n",
       "      <td>0.57</td>\n",
       "      <td>0.59</td>\n",
       "      <td>0.69</td>\n",
       "    </tr>\n",
       "    <tr>\n",
       "      <td>5</td>\n",
       "      <td>7</td>\n",
       "      <td>107</td>\n",
       "      <td>39</td>\n",
       "      <td>30</td>\n",
       "      <td>55</td>\n",
       "      <td>0.70</td>\n",
       "      <td>0.59</td>\n",
       "      <td>0.65</td>\n",
       "      <td>0.70</td>\n",
       "    </tr>\n",
       "    <tr>\n",
       "      <td>6</td>\n",
       "      <td>8</td>\n",
       "      <td>117</td>\n",
       "      <td>29</td>\n",
       "      <td>45</td>\n",
       "      <td>40</td>\n",
       "      <td>0.68</td>\n",
       "      <td>0.58</td>\n",
       "      <td>0.47</td>\n",
       "      <td>0.65</td>\n",
       "    </tr>\n",
       "    <tr>\n",
       "      <td>7</td>\n",
       "      <td>9</td>\n",
       "      <td>116</td>\n",
       "      <td>30</td>\n",
       "      <td>40</td>\n",
       "      <td>45</td>\n",
       "      <td>0.70</td>\n",
       "      <td>0.60</td>\n",
       "      <td>0.53</td>\n",
       "      <td>0.67</td>\n",
       "    </tr>\n",
       "    <tr>\n",
       "      <td>8</td>\n",
       "      <td>10</td>\n",
       "      <td>110</td>\n",
       "      <td>36</td>\n",
       "      <td>40</td>\n",
       "      <td>45</td>\n",
       "      <td>0.67</td>\n",
       "      <td>0.56</td>\n",
       "      <td>0.53</td>\n",
       "      <td>0.64</td>\n",
       "    </tr>\n",
       "  </tbody>\n",
       "</table>\n",
       "</div>"
      ],
      "text/plain": [
       "   depth   tn  tp  fn  fp  acc   pr  rec  auc\n",
       "0      2  116  30  35  50 0.72 0.62 0.59 0.72\n",
       "1      3  113  33  31  54 0.72 0.62 0.64 0.76\n",
       "2      4  115  31  41  44 0.69 0.59 0.52 0.74\n",
       "3      5  118  28  44  41 0.69 0.59 0.48 0.74\n",
       "4      6  109  37  35  50 0.69 0.57 0.59 0.69\n",
       "5      7  107  39  30  55 0.70 0.59 0.65 0.70\n",
       "6      8  117  29  45  40 0.68 0.58 0.47 0.65\n",
       "7      9  116  30  40  45 0.70 0.60 0.53 0.67\n",
       "8     10  110  36  40  45 0.67 0.56 0.53 0.64"
      ]
     },
     "execution_count": 100,
     "metadata": {},
     "output_type": "execute_result"
    }
   ],
   "source": [
    "train_x, test_x, train_y,test_y = train_test_split(X, Y, test_size=0.30,random_state=1000)\n",
    "\n",
    "out=[]\n",
    "from sklearn.metrics import confusion_matrix,recall_score, precision_score\n",
    "\n",
    "## Creating Decision Tree\n",
    "\n",
    "for i in range(2,11):\n",
    "    pt = DecisionTreeClassifier(max_depth=i,criterion='gini',random_state=0)\n",
    "    pt.fit(train_x,train_y)\n",
    "#  print(\"depth \"+str(i))\n",
    "    pred_class = pt.predict(test_x)\n",
    "    pred_prob  = pt.predict_proba(test_x)\n",
    "    con=confusion_matrix(test_y, pred_class)\n",
    "    \n",
    "    acc=accuracy_score(test_y, pred_class)\n",
    "    pr =precision_score(test_y, pred_class)\n",
    "    recall =recall_score(test_y, pred_class)\n",
    "    auc=roc_auc_score(test_y, pred_prob[0:,1:])\n",
    "    \n",
    "    out.append((i,con[0,0],con[0,1],con[1,0],con[1,1],acc, pr, recall, auc))\n",
    "    \n",
    "pd.DataFrame(out,columns=[\"depth\",\"tn\",\"tp\",\"fn\",\"fp\",\"acc\",\"pr\",\"rec\",\"auc\"])\n"
   ]
  },
  {
   "cell_type": "code",
   "execution_count": 109,
   "metadata": {},
   "outputs": [],
   "source": [
    "# Feature Scaling for faster and better convergence; using standardscaler to transform\n",
    "\n",
    "from sklearn.preprocessing import StandardScaler\n",
    "sc = StandardScaler()\n",
    "\n",
    "## transforming \"train_x\"\n",
    "train_xs = sc.fit_transform(train_x)\n",
    "## transforming \"test_x\"\n",
    "test_xs = sc.transform(test_x)\n",
    "## transforming \"test_x\"\n",
    "X_s = sc.transform(X)"
   ]
  },
  {
   "cell_type": "code",
   "execution_count": 28,
   "metadata": {},
   "outputs": [
    {
     "data": {
      "text/html": [
       "<div>\n",
       "<style scoped>\n",
       "    .dataframe tbody tr th:only-of-type {\n",
       "        vertical-align: middle;\n",
       "    }\n",
       "\n",
       "    .dataframe tbody tr th {\n",
       "        vertical-align: top;\n",
       "    }\n",
       "\n",
       "    .dataframe thead th {\n",
       "        text-align: right;\n",
       "    }\n",
       "</style>\n",
       "<table border=\"1\" class=\"dataframe\">\n",
       "  <thead>\n",
       "    <tr style=\"text-align: right;\">\n",
       "      <th></th>\n",
       "      <th>depth</th>\n",
       "      <th>tn</th>\n",
       "      <th>tp</th>\n",
       "      <th>fn</th>\n",
       "      <th>fp</th>\n",
       "      <th>acc</th>\n",
       "      <th>pr</th>\n",
       "      <th>rec</th>\n",
       "      <th>auc</th>\n",
       "    </tr>\n",
       "  </thead>\n",
       "  <tbody>\n",
       "    <tr>\n",
       "      <td>0</td>\n",
       "      <td>2</td>\n",
       "      <td>116</td>\n",
       "      <td>30</td>\n",
       "      <td>35</td>\n",
       "      <td>50</td>\n",
       "      <td>0.72</td>\n",
       "      <td>0.62</td>\n",
       "      <td>0.59</td>\n",
       "      <td>0.72</td>\n",
       "    </tr>\n",
       "    <tr>\n",
       "      <td>1</td>\n",
       "      <td>3</td>\n",
       "      <td>113</td>\n",
       "      <td>33</td>\n",
       "      <td>31</td>\n",
       "      <td>54</td>\n",
       "      <td>0.72</td>\n",
       "      <td>0.62</td>\n",
       "      <td>0.64</td>\n",
       "      <td>0.76</td>\n",
       "    </tr>\n",
       "    <tr>\n",
       "      <td>2</td>\n",
       "      <td>4</td>\n",
       "      <td>115</td>\n",
       "      <td>31</td>\n",
       "      <td>41</td>\n",
       "      <td>44</td>\n",
       "      <td>0.69</td>\n",
       "      <td>0.59</td>\n",
       "      <td>0.52</td>\n",
       "      <td>0.74</td>\n",
       "    </tr>\n",
       "    <tr>\n",
       "      <td>3</td>\n",
       "      <td>5</td>\n",
       "      <td>118</td>\n",
       "      <td>28</td>\n",
       "      <td>44</td>\n",
       "      <td>41</td>\n",
       "      <td>0.69</td>\n",
       "      <td>0.59</td>\n",
       "      <td>0.48</td>\n",
       "      <td>0.74</td>\n",
       "    </tr>\n",
       "    <tr>\n",
       "      <td>4</td>\n",
       "      <td>6</td>\n",
       "      <td>109</td>\n",
       "      <td>37</td>\n",
       "      <td>35</td>\n",
       "      <td>50</td>\n",
       "      <td>0.69</td>\n",
       "      <td>0.57</td>\n",
       "      <td>0.59</td>\n",
       "      <td>0.69</td>\n",
       "    </tr>\n",
       "    <tr>\n",
       "      <td>5</td>\n",
       "      <td>7</td>\n",
       "      <td>107</td>\n",
       "      <td>39</td>\n",
       "      <td>29</td>\n",
       "      <td>56</td>\n",
       "      <td>0.71</td>\n",
       "      <td>0.59</td>\n",
       "      <td>0.66</td>\n",
       "      <td>0.71</td>\n",
       "    </tr>\n",
       "    <tr>\n",
       "      <td>6</td>\n",
       "      <td>8</td>\n",
       "      <td>117</td>\n",
       "      <td>29</td>\n",
       "      <td>46</td>\n",
       "      <td>39</td>\n",
       "      <td>0.68</td>\n",
       "      <td>0.57</td>\n",
       "      <td>0.46</td>\n",
       "      <td>0.64</td>\n",
       "    </tr>\n",
       "    <tr>\n",
       "      <td>7</td>\n",
       "      <td>9</td>\n",
       "      <td>116</td>\n",
       "      <td>30</td>\n",
       "      <td>41</td>\n",
       "      <td>44</td>\n",
       "      <td>0.69</td>\n",
       "      <td>0.59</td>\n",
       "      <td>0.52</td>\n",
       "      <td>0.66</td>\n",
       "    </tr>\n",
       "    <tr>\n",
       "      <td>8</td>\n",
       "      <td>10</td>\n",
       "      <td>110</td>\n",
       "      <td>36</td>\n",
       "      <td>40</td>\n",
       "      <td>45</td>\n",
       "      <td>0.67</td>\n",
       "      <td>0.56</td>\n",
       "      <td>0.53</td>\n",
       "      <td>0.64</td>\n",
       "    </tr>\n",
       "  </tbody>\n",
       "</table>\n",
       "</div>"
      ],
      "text/plain": [
       "   depth   tn  tp  fn  fp  acc   pr  rec  auc\n",
       "0      2  116  30  35  50 0.72 0.62 0.59 0.72\n",
       "1      3  113  33  31  54 0.72 0.62 0.64 0.76\n",
       "2      4  115  31  41  44 0.69 0.59 0.52 0.74\n",
       "3      5  118  28  44  41 0.69 0.59 0.48 0.74\n",
       "4      6  109  37  35  50 0.69 0.57 0.59 0.69\n",
       "5      7  107  39  29  56 0.71 0.59 0.66 0.71\n",
       "6      8  117  29  46  39 0.68 0.57 0.46 0.64\n",
       "7      9  116  30  41  44 0.69 0.59 0.52 0.66\n",
       "8     10  110  36  40  45 0.67 0.56 0.53 0.64"
      ]
     },
     "execution_count": 28,
     "metadata": {},
     "output_type": "execute_result"
    }
   ],
   "source": [
    "out=[]\n",
    "from sklearn.metrics import confusion_matrix,recall_score, precision_score\n",
    "## Creating Decision Tree\n",
    "for i in range(2,11):\n",
    "    pt = DecisionTreeClassifier(max_depth=i,criterion='gini',random_state=0)\n",
    "    pt.fit(train_xs,train_y)\n",
    "    \n",
    "#  print(\"depth \"+str(i))\n",
    "    pred_class = pt.predict(test_xs)\n",
    "    pred_prob  = pt.predict_proba(test_xs)\n",
    "    con=confusion_matrix(test_y, pred_class)\n",
    "    \n",
    "    acc=accuracy_score(test_y, pred_class)\n",
    "    pr =precision_score(test_y, pred_class)\n",
    "    recall =recall_score(test_y, pred_class)\n",
    "    auc=roc_auc_score(test_y, pred_prob[0:,1:])\n",
    "    \n",
    "    out.append((i,con[0,0],con[0,1],con[1,0],con[1,1],acc, pr, recall, auc))\n",
    "    \n",
    "pd.DataFrame(out,columns=[\"depth\",\"tn\",\"tp\",\"fn\",\"fp\",\"acc\",\"pr\",\"rec\",\"auc\"])"
   ]
  },
  {
   "cell_type": "code",
   "execution_count": 101,
   "metadata": {},
   "outputs": [
    {
     "data": {
      "text/plain": [
       "Pipeline(memory=None,\n",
       "         steps=[('robustscaler',\n",
       "                 RobustScaler(copy=True, quantile_range=(25.0, 75.0),\n",
       "                              with_centering=True, with_scaling=True)),\n",
       "                ('logisticregression',\n",
       "                 LogisticRegression(C=1.0, class_weight=None, dual=False,\n",
       "                                    fit_intercept=True, intercept_scaling=1,\n",
       "                                    l1_ratio=None, max_iter=300,\n",
       "                                    multi_class='auto', n_jobs=1, penalty='l2',\n",
       "                                    random_state=None, solver='liblinear',\n",
       "                                    tol=0.0001, verbose=0, warm_start=False))],\n",
       "         verbose=False)"
      ]
     },
     "execution_count": 101,
     "metadata": {},
     "output_type": "execute_result"
    }
   ],
   "source": [
    "# Build and fit Logistic Regression model, with/without timer; to try out covergence tuning using loss function and iterations\n",
    "\n",
    "from sklearn.pipeline import make_pipeline\n",
    "from sklearn.preprocessing import RobustScaler\n",
    "from sklearn.linear_model import LogisticRegression\n",
    "\n",
    "#class_weights = {0: 1, 1: 4}\n",
    "\n",
    "LR = make_pipeline(RobustScaler(), LogisticRegression(penalty='l2', dual=False, tol=0.0001, C=1.0, fit_intercept=True, \n",
    "                                                       intercept_scaling=1, class_weight=None, random_state=None, solver='liblinear', \n",
    "                                                       max_iter=300, multi_class='auto', verbose=0, warm_start=False, n_jobs=1, \n",
    "                                                       l1_ratio=None))\n",
    "\n",
    "#solver='liblinear', 'lbfgs'\n",
    "LR_model = LR.fit(train_x, train_y.ravel())\n",
    "\n",
    "LR_model"
   ]
  },
  {
   "cell_type": "code",
   "execution_count": 102,
   "metadata": {},
   "outputs": [
    {
     "name": "stdout",
     "output_type": "stream",
     "text": [
      "[0 1 0 1]\n",
      "[[0.93294145 0.06705855]\n",
      " [0.4489892  0.5510108 ]\n",
      " [0.9566134  0.0433866 ]\n",
      " [0.08249625 0.91750375]]\n"
     ]
    }
   ],
   "source": [
    "pred_class = LR_model.predict(test_x)\n",
    "pred_prob  = LR_model.predict_proba(test_x)\n",
    "print(pred_class[0:4])\n",
    "print(pred_prob[0:4])"
   ]
  },
  {
   "cell_type": "code",
   "execution_count": 103,
   "metadata": {},
   "outputs": [
    {
     "data": {
      "text/plain": [
       "array([[128,  18],\n",
       "       [ 37,  48]], dtype=int64)"
      ]
     },
     "execution_count": 103,
     "metadata": {},
     "output_type": "execute_result"
    }
   ],
   "source": [
    "from sklearn.metrics import confusion_matrix\n",
    "confusion_matrix(test_y, pred_class)"
   ]
  },
  {
   "cell_type": "code",
   "execution_count": 104,
   "metadata": {},
   "outputs": [
    {
     "name": "stdout",
     "output_type": "stream",
     "text": [
      "0.7619047619047619\n",
      "0.7272727272727273\n",
      "0.5647058823529412\n"
     ]
    }
   ],
   "source": [
    "from sklearn.metrics import accuracy_score, precision_score, recall_score\n",
    "\n",
    "print(accuracy_score(test_y, pred_class))\n",
    "print(precision_score(test_y, pred_class))\n",
    "print(recall_score(test_y, pred_class))"
   ]
  },
  {
   "cell_type": "code",
   "execution_count": 105,
   "metadata": {},
   "outputs": [
    {
     "name": "stdout",
     "output_type": "stream",
     "text": [
      "Wall time: 8.01 s\n"
     ]
    }
   ],
   "source": [
    "%%time\n",
    "\n",
    "from sklearn.model_selection import GridSearchCV, StratifiedKFold, StratifiedShuffleSplit\n",
    "\n",
    "# C_vals is the alpla value of lasso and ridge regression(as alpha increases the model complexity decreases,)\n",
    "# Effective alpha scores are 0<alpha<infinity \n",
    "C_vals = [0.2,0.3,0.4,0.5,0.6,0.7,0.8,0.9,1,2,3,4,5,6,7,8,9,10,12,13,14,15,16,16.5,17,17.5,18]\n",
    "\n",
    "# Choosing penalties(Lasso(l1) or Ridge(l2))\n",
    "penalties = ['l1','l2']\n",
    "\n",
    "# Choosing the solver/ loss optimizer\n",
    "solver = ['liblinear', 'saga']\n",
    "\n",
    "# Choose a cross validation strategy \n",
    "cv = StratifiedShuffleSplit(n_splits = 10, test_size = .33)\n",
    "\n",
    "# Setting param for param_grid in GridSearchCV \n",
    "param = {'penalty': penalties, 'C': C_vals, 'solver': solver}\n",
    "\n",
    "\n",
    "# Calling on GridSearchCV object \n",
    "grid = GridSearchCV(estimator=LogisticRegression(),\n",
    "                    param_grid = param,\n",
    "                    scoring = 'accuracy',\n",
    "                    n_jobs =-1,\n",
    "                    cv = cv)\n",
    "\n",
    "# Fitting the model\n",
    "grid.fit(X, Y.ravel())"
   ]
  },
  {
   "cell_type": "code",
   "execution_count": 106,
   "metadata": {},
   "outputs": [
    {
     "name": "stdout",
     "output_type": "stream",
     "text": [
      "0.7807086614173229\n",
      "{'C': 12, 'penalty': 'l1', 'solver': 'liblinear'}\n",
      "LogisticRegression(C=12, class_weight=None, dual=False, fit_intercept=True,\n",
      "                   intercept_scaling=1, l1_ratio=None, max_iter=100,\n",
      "                   multi_class='warn', n_jobs=None, penalty='l1',\n",
      "                   random_state=None, solver='liblinear', tol=0.0001, verbose=0,\n",
      "                   warm_start=False)\n"
     ]
    }
   ],
   "source": [
    "# Getting the best of everything \n",
    "print (grid.best_score_)\n",
    "print (grid.best_params_)\n",
    "print(grid.best_estimator_)"
   ]
  },
  {
   "cell_type": "code",
   "execution_count": 107,
   "metadata": {},
   "outputs": [
    {
     "data": {
      "text/plain": [
       "0.7825520833333334"
      ]
     },
     "execution_count": 107,
     "metadata": {},
     "output_type": "execute_result"
    }
   ],
   "source": [
    "# Using the best parameters from the grid-search.\n",
    "logreg_grid = grid.best_estimator_\n",
    "logreg_grid.score(X,Y)"
   ]
  },
  {
   "cell_type": "code",
   "execution_count": 110,
   "metadata": {},
   "outputs": [
    {
     "name": "stdout",
     "output_type": "stream",
     "text": [
      "Wall time: 13.6 s\n"
     ]
    }
   ],
   "source": [
    "%%time\n",
    "\n",
    "# Grid Search with Support Vector Classifier (SVC); does not work without scaling\n",
    "\n",
    "from sklearn.svm import SVC\n",
    "\n",
    "Cs = [0.001, 0.01, 0.1, 1,1.5,2,2.5,3,4,5,10] # Penalty parameter C for the error term. \n",
    "\n",
    "gammas = [0.0001,0.001, 0.01, 0.1, 1] # Kernel coefficient for ‘rbf’, ‘poly’ and ‘sigmoid’.\n",
    "\n",
    "kernels = ['rbf', 'linear', 'sigmoid'] # Specifies the kernel type to be used in the algorithm.\n",
    "\n",
    "param_grid = {'C': Cs, 'gamma' : gammas, 'kernel': kernels}\n",
    "\n",
    "cv = StratifiedShuffleSplit(n_splits=10, test_size=.30, random_state=15)\n",
    "\n",
    "grid_search = GridSearchCV(SVC(probability=True), \n",
    "                           param_grid, \n",
    "                           n_jobs =-1,\n",
    "                           cv=cv)\n",
    "\n",
    "grid_search.fit(X_s, Y.ravel())"
   ]
  },
  {
   "cell_type": "code",
   "execution_count": 111,
   "metadata": {},
   "outputs": [
    {
     "name": "stdout",
     "output_type": "stream",
     "text": [
      "0.7807086614173229\n",
      "{'C': 12, 'penalty': 'l1', 'solver': 'liblinear'}\n",
      "LogisticRegression(C=12, class_weight=None, dual=False, fit_intercept=True,\n",
      "                   intercept_scaling=1, l1_ratio=None, max_iter=100,\n",
      "                   multi_class='warn', n_jobs=None, penalty='l1',\n",
      "                   random_state=None, solver='liblinear', tol=0.0001, verbose=0,\n",
      "                   warm_start=False)\n"
     ]
    }
   ],
   "source": [
    "## Getting the best of everything. \n",
    "print (grid.best_score_)\n",
    "print (grid.best_params_)\n",
    "print(grid.best_estimator_)"
   ]
  },
  {
   "cell_type": "code",
   "execution_count": 113,
   "metadata": {},
   "outputs": [
    {
     "data": {
      "text/plain": [
       "0.7825520833333334"
      ]
     },
     "execution_count": 113,
     "metadata": {},
     "output_type": "execute_result"
    }
   ],
   "source": [
    "# Using the best parameters from the grid-search.\n",
    "svc_grid = grid.best_estimator_\n",
    "svc_grid.score(X, Y)"
   ]
  },
  {
   "cell_type": "code",
   "execution_count": 114,
   "metadata": {},
   "outputs": [
    {
     "data": {
      "text/plain": [
       "GradientBoostingClassifier(criterion='friedman_mse', init=None,\n",
       "                           learning_rate=0.1, loss='deviance', max_depth=2,\n",
       "                           max_features='auto', max_leaf_nodes=None,\n",
       "                           min_impurity_decrease=0.0, min_impurity_split=None,\n",
       "                           min_samples_leaf=1, min_samples_split=3,\n",
       "                           min_weight_fraction_leaf=0.0, n_estimators=200,\n",
       "                           n_iter_no_change=5, presort='auto',\n",
       "                           random_state=None, subsample=1.0, tol=0.0001,\n",
       "                           validation_fraction=0.1, verbose=0,\n",
       "                           warm_start=False)"
      ]
     },
     "execution_count": 114,
     "metadata": {},
     "output_type": "execute_result"
    }
   ],
   "source": [
    "# Build and fit Gradient Boosting Classifier model, with timer; to try out covergence tuning using loss function and iterations\n",
    "\n",
    "from sklearn.ensemble import GradientBoostingClassifier\n",
    "\n",
    "#class_weights = {0: 1, 1: 3}\n",
    "\n",
    "gbc = GradientBoostingClassifier(loss='deviance', learning_rate=0.1, n_estimators=200, subsample=1.0, criterion='friedman_mse', \n",
    "                                 min_samples_split=3, min_samples_leaf=1, min_weight_fraction_leaf=0.0, max_depth=2, \n",
    "                                 min_impurity_decrease=0.0, min_impurity_split=None, init=None, random_state=None, max_features='auto', \n",
    "                                 verbose=0, max_leaf_nodes=None, validation_fraction=0.1, n_iter_no_change=5, tol=0.0001)\n",
    "\n",
    "\n",
    "GBC_model = gbc.fit(train_xs, train_y.ravel())\n",
    "\n",
    "GBC_model"
   ]
  },
  {
   "cell_type": "code",
   "execution_count": 115,
   "metadata": {},
   "outputs": [
    {
     "name": "stdout",
     "output_type": "stream",
     "text": [
      "[0 1 0 1]\n",
      "[[0.90313909 0.09686091]\n",
      " [0.46645596 0.53354404]\n",
      " [0.92961478 0.07038522]\n",
      " [0.17510253 0.82489747]]\n"
     ]
    }
   ],
   "source": [
    "pred_class = GBC_model.predict(test_xs)\n",
    "pred_prob  = GBC_model.predict_proba(test_xs)\n",
    "print(pred_class[0:4])\n",
    "print(pred_prob[0:4])"
   ]
  },
  {
   "cell_type": "code",
   "execution_count": 116,
   "metadata": {},
   "outputs": [
    {
     "data": {
      "text/plain": [
       "array([[131,  15],\n",
       "       [ 38,  47]], dtype=int64)"
      ]
     },
     "execution_count": 116,
     "metadata": {},
     "output_type": "execute_result"
    }
   ],
   "source": [
    "from sklearn.metrics import confusion_matrix\n",
    "confusion_matrix(test_y, pred_class)"
   ]
  },
  {
   "cell_type": "code",
   "execution_count": 117,
   "metadata": {},
   "outputs": [
    {
     "name": "stdout",
     "output_type": "stream",
     "text": [
      "0.7705627705627706\n",
      "0.7580645161290323\n",
      "0.5529411764705883\n"
     ]
    }
   ],
   "source": [
    "from sklearn.metrics import accuracy_score, precision_score, recall_score\n",
    "\n",
    "print(accuracy_score(test_y, pred_class))\n",
    "print(precision_score(test_y, pred_class))\n",
    "print(recall_score(test_y, pred_class))"
   ]
  },
  {
   "cell_type": "code",
   "execution_count": 123,
   "metadata": {},
   "outputs": [
    {
     "name": "stdout",
     "output_type": "stream",
     "text": [
      "Wall time: 6.08 s\n"
     ]
    }
   ],
   "source": [
    "%%time\n",
    "# GradientBoosting Classifier GridSearch\n",
    "\n",
    "from sklearn.model_selection import GridSearchCV, StratifiedKFold, StratifiedShuffleSplit\n",
    "from sklearn.ensemble import GradientBoostingClassifier\n",
    "\n",
    "n_estimators = [100,150,200,225,250];\n",
    "max_depth = range(1,4);\n",
    "criterions = ['friedman_mse']; #mae];\n",
    "loss = ['deviance']; #'exponential'];\n",
    "learning_rates = [0.05, 0.1, 0.15, 0.2];\n",
    "\n",
    "cv = StratifiedShuffleSplit(n_splits=5, test_size=.30, random_state=0)\n",
    "\n",
    "\n",
    "parameters = {'n_estimators':n_estimators,\n",
    "              'max_depth':max_depth,\n",
    "              'criterion':criterions,\n",
    "              'loss':loss,\n",
    "              'learning_rate':learning_rates\n",
    "             }\n",
    "\n",
    "grid = GridSearchCV(estimator=GradientBoostingClassifier(max_features='auto'),\n",
    "                                 param_grid=parameters,\n",
    "                                 cv=cv,\n",
    "                                 n_jobs = -1)\n",
    "\n",
    "grid.fit(X, Y.ravel()) "
   ]
  },
  {
   "cell_type": "code",
   "execution_count": 124,
   "metadata": {},
   "outputs": [
    {
     "name": "stdout",
     "output_type": "stream",
     "text": [
      "0.7861471861471861\n",
      "{'criterion': 'friedman_mse', 'learning_rate': 0.05, 'loss': 'deviance', 'max_depth': 1, 'n_estimators': 100}\n",
      "GradientBoostingClassifier(criterion='friedman_mse', init=None,\n",
      "                           learning_rate=0.05, loss='deviance', max_depth=1,\n",
      "                           max_features='auto', max_leaf_nodes=None,\n",
      "                           min_impurity_decrease=0.0, min_impurity_split=None,\n",
      "                           min_samples_leaf=1, min_samples_split=2,\n",
      "                           min_weight_fraction_leaf=0.0, n_estimators=100,\n",
      "                           n_iter_no_change=None, presort='auto',\n",
      "                           random_state=None, subsample=1.0, tol=0.0001,\n",
      "                           validation_fraction=0.1, verbose=0,\n",
      "                           warm_start=False)\n"
     ]
    }
   ],
   "source": [
    "print (grid.best_score_)\n",
    "print (grid.best_params_)\n",
    "print (grid.best_estimator_)"
   ]
  },
  {
   "cell_type": "code",
   "execution_count": 125,
   "metadata": {},
   "outputs": [
    {
     "data": {
      "text/plain": [
       "0.7825520833333334"
      ]
     },
     "execution_count": 125,
     "metadata": {},
     "output_type": "execute_result"
    }
   ],
   "source": [
    "gbc_grid = grid.best_estimator_\n",
    "gbc_grid.score(X, Y)"
   ]
  },
  {
   "cell_type": "code",
   "execution_count": 126,
   "metadata": {},
   "outputs": [
    {
     "name": "stdout",
     "output_type": "stream",
     "text": [
      "Wall time: 1min 4s\n"
     ]
    }
   ],
   "source": [
    "%%time\n",
    "# Random Forest GridSearch\n",
    "\n",
    "from sklearn.model_selection import GridSearchCV, StratifiedKFold, StratifiedShuffleSplit\n",
    "from sklearn.ensemble import RandomForestClassifier\n",
    "\n",
    "n_estimators = [100,150,175,200,250];\n",
    "max_depth = range(1,10);\n",
    "criterions = ['gini', 'entropy'];\n",
    "\n",
    "cv = StratifiedShuffleSplit(n_splits=10, test_size=.30, random_state=0)\n",
    "\n",
    "\n",
    "parameters = {'n_estimators':n_estimators,\n",
    "              'max_depth':max_depth,\n",
    "              'criterion': criterions \n",
    "             }\n",
    "\n",
    "grid = GridSearchCV(estimator=RandomForestClassifier(max_features='auto'),\n",
    "                                 param_grid=parameters,\n",
    "                                 cv=cv,\n",
    "                                 n_jobs = -1)\n",
    "\n",
    "grid.fit(X, Y.ravel()) "
   ]
  },
  {
   "cell_type": "code",
   "execution_count": 127,
   "metadata": {},
   "outputs": [
    {
     "name": "stdout",
     "output_type": "stream",
     "text": [
      "0.7796536796536796\n",
      "{'criterion': 'gini', 'max_depth': 8, 'n_estimators': 175}\n",
      "RandomForestClassifier(bootstrap=True, class_weight=None, criterion='gini',\n",
      "                       max_depth=8, max_features='auto', max_leaf_nodes=None,\n",
      "                       min_impurity_decrease=0.0, min_impurity_split=None,\n",
      "                       min_samples_leaf=1, min_samples_split=2,\n",
      "                       min_weight_fraction_leaf=0.0, n_estimators=175,\n",
      "                       n_jobs=None, oob_score=False, random_state=None,\n",
      "                       verbose=0, warm_start=False)\n"
     ]
    }
   ],
   "source": [
    "print (grid.best_score_)\n",
    "print (grid.best_params_)\n",
    "print (grid.best_estimator_)"
   ]
  },
  {
   "cell_type": "code",
   "execution_count": 128,
   "metadata": {},
   "outputs": [
    {
     "data": {
      "text/plain": [
       "0.95703125"
      ]
     },
     "execution_count": 128,
     "metadata": {},
     "output_type": "execute_result"
    }
   ],
   "source": [
    "rf_grid = grid.best_estimator_\n",
    "rf_grid.score(X, Y)"
   ]
  },
  {
   "cell_type": "code",
   "execution_count": 129,
   "metadata": {},
   "outputs": [
    {
     "data": {
      "text/html": [
       "<div>\n",
       "<style scoped>\n",
       "    .dataframe tbody tr th:only-of-type {\n",
       "        vertical-align: middle;\n",
       "    }\n",
       "\n",
       "    .dataframe tbody tr th {\n",
       "        vertical-align: top;\n",
       "    }\n",
       "\n",
       "    .dataframe thead th {\n",
       "        text-align: right;\n",
       "    }\n",
       "</style>\n",
       "<table border=\"1\" class=\"dataframe\">\n",
       "  <thead>\n",
       "    <tr style=\"text-align: right;\">\n",
       "      <th></th>\n",
       "      <th>importance</th>\n",
       "    </tr>\n",
       "  </thead>\n",
       "  <tbody>\n",
       "    <tr>\n",
       "      <td>Glucose</td>\n",
       "      <td>0.29</td>\n",
       "    </tr>\n",
       "    <tr>\n",
       "      <td>BMI</td>\n",
       "      <td>0.17</td>\n",
       "    </tr>\n",
       "    <tr>\n",
       "      <td>Age</td>\n",
       "      <td>0.14</td>\n",
       "    </tr>\n",
       "    <tr>\n",
       "      <td>DiabetesPedigreeFunction</td>\n",
       "      <td>0.11</td>\n",
       "    </tr>\n",
       "    <tr>\n",
       "      <td>Pregnancies</td>\n",
       "      <td>0.08</td>\n",
       "    </tr>\n",
       "    <tr>\n",
       "      <td>Insulin</td>\n",
       "      <td>0.07</td>\n",
       "    </tr>\n",
       "    <tr>\n",
       "      <td>BloodPressure</td>\n",
       "      <td>0.07</td>\n",
       "    </tr>\n",
       "    <tr>\n",
       "      <td>SkinThickness</td>\n",
       "      <td>0.06</td>\n",
       "    </tr>\n",
       "  </tbody>\n",
       "</table>\n",
       "</div>"
      ],
      "text/plain": [
       "                          importance\n",
       "Glucose                         0.29\n",
       "BMI                             0.17\n",
       "Age                             0.14\n",
       "DiabetesPedigreeFunction        0.11\n",
       "Pregnancies                     0.08\n",
       "Insulin                         0.07\n",
       "BloodPressure                   0.07\n",
       "SkinThickness                   0.06"
      ]
     },
     "execution_count": 129,
     "metadata": {},
     "output_type": "execute_result"
    }
   ],
   "source": [
    "## Final feature importance\n",
    "feature_importances = pd.DataFrame(rf_grid.feature_importances_,\n",
    "                                   index = col,\n",
    "                                   columns=['importance'])\n",
    "\n",
    "feature_importances.sort_values(by='importance', ascending=False).head(10)"
   ]
  },
  {
   "cell_type": "code",
   "execution_count": null,
   "metadata": {},
   "outputs": [],
   "source": []
  }
 ],
 "metadata": {
  "kernelspec": {
   "display_name": "Python 3",
   "language": "python",
   "name": "python3"
  },
  "language_info": {
   "codemirror_mode": {
    "name": "ipython",
    "version": 3
   },
   "file_extension": ".py",
   "mimetype": "text/x-python",
   "name": "python",
   "nbconvert_exporter": "python",
   "pygments_lexer": "ipython3",
   "version": "3.7.1"
  }
 },
 "nbformat": 4,
 "nbformat_minor": 4
}
